{
 "cells": [
  {
   "cell_type": "code",
   "execution_count": null,
   "id": "52328ad2",
   "metadata": {},
   "outputs": [],
   "source": []
  },
  {
   "cell_type": "code",
   "execution_count": 7,
   "id": "d385b3cc",
   "metadata": {},
   "outputs": [],
   "source": [
    "import torch\n",
    "from banyan import BNN, BLinear"
   ]
  },
  {
   "cell_type": "code",
   "execution_count": 3,
   "id": "a8b62f3b",
   "metadata": {},
   "outputs": [],
   "source": [
    "BLinear?"
   ]
  },
  {
   "cell_type": "code",
   "execution_count": 5,
   "id": "1865b3f5",
   "metadata": {},
   "outputs": [],
   "source": [
    "layer = BLinear(4, 2)"
   ]
  },
  {
   "cell_type": "code",
   "execution_count": 12,
   "id": "6f8377a4",
   "metadata": {},
   "outputs": [],
   "source": [
    "N_samples = 25\n",
    "\n",
    "x = torch.randn((100, 4))\n",
    "xt = x[:, None].tile((1, N_samples, 1))"
   ]
  },
  {
   "cell_type": "code",
   "execution_count": 15,
   "id": "86e8d4d4",
   "metadata": {},
   "outputs": [
    {
     "data": {
      "text/plain": [
       "torch.Size([100, 25, 2])"
      ]
     },
     "execution_count": 15,
     "metadata": {},
     "output_type": "execute_result"
    }
   ],
   "source": [
    "layer(xt).shape"
   ]
  },
  {
   "cell_type": "code",
   "execution_count": 18,
   "id": "e94307c2",
   "metadata": {},
   "outputs": [],
   "source": [
    "layer = torch.nn.Linear(4, 2)"
   ]
  },
  {
   "cell_type": "code",
   "execution_count": 21,
   "id": "6823bd9b",
   "metadata": {},
   "outputs": [
    {
     "data": {
      "text/plain": [
       "Parameter containing:\n",
       "tensor([[ 0.3292,  0.1039,  0.3759,  0.3756],\n",
       "        [ 0.2933,  0.2853, -0.2698, -0.3426]], requires_grad=True)"
      ]
     },
     "execution_count": 21,
     "metadata": {},
     "output_type": "execute_result"
    }
   ],
   "source": [
    "layer.weight"
   ]
  },
  {
   "cell_type": "code",
   "execution_count": 22,
   "id": "2919ef2d",
   "metadata": {},
   "outputs": [
    {
     "data": {
      "text/plain": [
       "Parameter containing:\n",
       "tensor([-0.3027,  0.0744], requires_grad=True)"
      ]
     },
     "execution_count": 22,
     "metadata": {},
     "output_type": "execute_result"
    }
   ],
   "source": [
    "layer.bias"
   ]
  },
  {
   "cell_type": "code",
   "execution_count": null,
   "id": "c907fe51",
   "metadata": {},
   "outputs": [],
   "source": []
  }
 ],
 "metadata": {
  "kernelspec": {
   "display_name": "Python 3 (ipykernel)",
   "language": "python",
   "name": "python3"
  },
  "language_info": {
   "codemirror_mode": {
    "name": "ipython",
    "version": 3
   },
   "file_extension": ".py",
   "mimetype": "text/x-python",
   "name": "python",
   "nbconvert_exporter": "python",
   "pygments_lexer": "ipython3",
   "version": "3.10.10"
  }
 },
 "nbformat": 4,
 "nbformat_minor": 5
}
